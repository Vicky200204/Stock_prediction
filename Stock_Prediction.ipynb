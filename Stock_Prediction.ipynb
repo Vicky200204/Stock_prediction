{
  "nbformat": 4,
  "nbformat_minor": 0,
  "metadata": {
    "colab": {
      "provenance": []
    },
    "kernelspec": {
      "name": "python3",
      "display_name": "Python 3"
    },
    "language_info": {
      "name": "python"
    }
  },
  "cells": [
    {
      "cell_type": "code",
      "source": [
        "import yfinance as yf\n",
        "import pandas as pd\n",
        "import numpy as np\n",
        "from xgboost import XGBRegressor\n",
        "from sklearn.preprocessing import StandardScaler\n",
        "from sklearn.metrics import mean_squared_error\n",
        "from datetime import datetime\n",
        "import time"
      ],
      "metadata": {
        "id": "HgnBXYrjUxGX"
      },
      "execution_count": 1,
      "outputs": []
    },
    {
      "cell_type": "code",
      "source": [
        "# Step 1: Real-time data fetcher\n",
        "def fetch_realtime_data(ticker, interval='1m', period='1d'):\n",
        "    stock = yf.Ticker(ticker)\n",
        "    df = stock.history(interval=interval, period=period)\n",
        "    return df[['Open', 'High', 'Low', 'Close', 'Volume']]"
      ],
      "metadata": {
        "id": "UzMsC0RUVoxY"
      },
      "execution_count": 2,
      "outputs": []
    },
    {
      "cell_type": "code",
      "source": [
        "# Step 2: Feature engineering\n",
        "def create_features(df):\n",
        "    df['Returns'] = df['Close'].pct_change()\n",
        "    df['MA_5'] = df['Close'].rolling(window=5).mean()\n",
        "    df['STD_5'] = df['Close'].rolling(window=5).std()\n",
        "    df = df.dropna()\n",
        "    return df"
      ],
      "metadata": {
        "id": "uNeZrC0XVtLs"
      },
      "execution_count": 3,
      "outputs": []
    },
    {
      "cell_type": "code",
      "source": [
        "# Step 3: Train XGBoost model\n",
        "def train_xgb_model(df):\n",
        "    features = ['Open', 'High', 'Low', 'Volume', 'MA_5', 'STD_5']\n",
        "    target = 'Close'\n",
        "\n",
        "    X = df[features]\n",
        "    y = df[target]\n",
        "\n",
        "    scaler = StandardScaler()\n",
        "    X_scaled = scaler.fit_transform(X)\n",
        "\n",
        "    model = XGBRegressor(n_estimators=100, learning_rate=0.1)\n",
        "    model.fit(X_scaled, y)\n",
        "\n",
        "    return model, scaler"
      ],
      "metadata": {
        "id": "dmHGJYfGVwZk"
      },
      "execution_count": 4,
      "outputs": []
    },
    {
      "cell_type": "code",
      "source": [
        "# Step 4: Predict and decide\n",
        "def make_decision(model, scaler, df):\n",
        "    latest = df.iloc[-1:]\n",
        "    X_pred = latest[['Open', 'High', 'Low', 'Volume', 'MA_5', 'STD_5']]\n",
        "    X_scaled = scaler.transform(X_pred)\n",
        "    predicted_price = model.predict(X_scaled)[0]\n",
        "\n",
        "    current_price = latest['Close'].values[0]\n",
        "\n",
        "    print(f\"🟡 Current Price: {current_price:.2f}\")\n",
        "    print(f\"🧠 Predicted Price (Next Minute): {predicted_price:.2f}\")\n",
        "\n",
        "    # Buy/sell/hold logic\n",
        "    if predicted_price > current_price * 1.01:\n",
        "        return \"✅ BUY\"\n",
        "    elif predicted_price < current_price * 0.99:\n",
        "        return \"❌ SELL\"\n",
        "    else:\n",
        "        return \"🔁 HOLD\""
      ],
      "metadata": {
        "id": "K5V4ojalVzAW"
      },
      "execution_count": 5,
      "outputs": []
    },
    {
      "cell_type": "code",
      "source": [
        "# Step 5: Real-time loop\n",
        "def run_xgb_realtime_prediction(ticker='AAPL'):\n",
        "    print(f\"📡 Starting XGBoost Stock Predictor for {ticker}...\")\n",
        "\n",
        "    df = fetch_realtime_data(ticker)\n",
        "    df = create_features(df)\n",
        "    model, scaler = train_xgb_model(df)\n",
        "\n",
        "    while True:\n",
        "        time.sleep(60)  # Fetch every 1 minute\n",
        "        df = fetch_realtime_data(ticker)\n",
        "        df = create_features(df)\n",
        "\n",
        "        try:\n",
        "            decision = make_decision(model, scaler, df)\n",
        "            print(f\"[{datetime.now().strftime('%H:%M:%S')}] Decision: {decision}\")\n",
        "            print(\"-\" * 50)\n",
        "        except Exception as e:\n",
        "            print(\"⚠️ Error:\", e)\n"
      ],
      "metadata": {
        "id": "cvrKK2iaV2i4"
      },
      "execution_count": 6,
      "outputs": []
    },
    {
      "cell_type": "code",
      "source": [
        "run_xgb_realtime_prediction(\"AAPL\")"
      ],
      "metadata": {
        "colab": {
          "base_uri": "https://localhost:8080/",
          "height": 766
        },
        "id": "KuJMQzW5WLZo",
        "outputId": "1ecdab6e-a151-4336-dacb-a9bcb8dd9c64"
      },
      "execution_count": 7,
      "outputs": [
        {
          "output_type": "stream",
          "name": "stdout",
          "text": [
            "📡 Starting XGBoost Stock Predictor for AAPL...\n",
            "🟡 Current Price: 195.34\n",
            "🧠 Predicted Price (Next Minute): 195.34\n",
            "[16:57:30] Decision: 🔁 HOLD\n",
            "--------------------------------------------------\n",
            "🟡 Current Price: 195.34\n",
            "🧠 Predicted Price (Next Minute): 195.34\n",
            "[16:58:30] Decision: 🔁 HOLD\n",
            "--------------------------------------------------\n",
            "🟡 Current Price: 195.34\n",
            "🧠 Predicted Price (Next Minute): 195.34\n",
            "[16:59:30] Decision: 🔁 HOLD\n",
            "--------------------------------------------------\n",
            "🟡 Current Price: 195.34\n",
            "🧠 Predicted Price (Next Minute): 195.34\n",
            "[17:00:30] Decision: 🔁 HOLD\n",
            "--------------------------------------------------\n",
            "🟡 Current Price: 195.34\n",
            "🧠 Predicted Price (Next Minute): 195.34\n",
            "[17:01:30] Decision: 🔁 HOLD\n",
            "--------------------------------------------------\n",
            "🟡 Current Price: 195.34\n",
            "🧠 Predicted Price (Next Minute): 195.34\n",
            "[17:02:31] Decision: 🔁 HOLD\n",
            "--------------------------------------------------\n",
            "🟡 Current Price: 195.34\n",
            "🧠 Predicted Price (Next Minute): 195.34\n",
            "[17:03:31] Decision: 🔁 HOLD\n",
            "--------------------------------------------------\n"
          ]
        },
        {
          "output_type": "error",
          "ename": "KeyboardInterrupt",
          "evalue": "",
          "traceback": [
            "\u001b[0;31m---------------------------------------------------------------------------\u001b[0m",
            "\u001b[0;31mKeyboardInterrupt\u001b[0m                         Traceback (most recent call last)",
            "\u001b[0;32m<ipython-input-7-b89c83a54807>\u001b[0m in \u001b[0;36m<cell line: 0>\u001b[0;34m()\u001b[0m\n\u001b[0;32m----> 1\u001b[0;31m \u001b[0mrun_xgb_realtime_prediction\u001b[0m\u001b[0;34m(\u001b[0m\u001b[0;34m\"AAPL\"\u001b[0m\u001b[0;34m)\u001b[0m\u001b[0;34m\u001b[0m\u001b[0;34m\u001b[0m\u001b[0m\n\u001b[0m",
            "\u001b[0;32m<ipython-input-6-8940de2e95ad>\u001b[0m in \u001b[0;36mrun_xgb_realtime_prediction\u001b[0;34m(ticker)\u001b[0m\n\u001b[1;32m      8\u001b[0m \u001b[0;34m\u001b[0m\u001b[0m\n\u001b[1;32m      9\u001b[0m     \u001b[0;32mwhile\u001b[0m \u001b[0;32mTrue\u001b[0m\u001b[0;34m:\u001b[0m\u001b[0;34m\u001b[0m\u001b[0;34m\u001b[0m\u001b[0m\n\u001b[0;32m---> 10\u001b[0;31m         \u001b[0mtime\u001b[0m\u001b[0;34m.\u001b[0m\u001b[0msleep\u001b[0m\u001b[0;34m(\u001b[0m\u001b[0;36m60\u001b[0m\u001b[0;34m)\u001b[0m  \u001b[0;31m# Fetch every 1 minute\u001b[0m\u001b[0;34m\u001b[0m\u001b[0;34m\u001b[0m\u001b[0m\n\u001b[0m\u001b[1;32m     11\u001b[0m         \u001b[0mdf\u001b[0m \u001b[0;34m=\u001b[0m \u001b[0mfetch_realtime_data\u001b[0m\u001b[0;34m(\u001b[0m\u001b[0mticker\u001b[0m\u001b[0;34m)\u001b[0m\u001b[0;34m\u001b[0m\u001b[0;34m\u001b[0m\u001b[0m\n\u001b[1;32m     12\u001b[0m         \u001b[0mdf\u001b[0m \u001b[0;34m=\u001b[0m \u001b[0mcreate_features\u001b[0m\u001b[0;34m(\u001b[0m\u001b[0mdf\u001b[0m\u001b[0;34m)\u001b[0m\u001b[0;34m\u001b[0m\u001b[0;34m\u001b[0m\u001b[0m\n",
            "\u001b[0;31mKeyboardInterrupt\u001b[0m: "
          ]
        }
      ]
    }
  ]
}